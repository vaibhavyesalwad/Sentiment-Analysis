{
 "cells": [
  {
   "cell_type": "markdown",
   "metadata": {},
   "source": [
    "## Reading dataset"
   ]
  },
  {
   "cell_type": "code",
   "execution_count": 1,
   "metadata": {},
   "outputs": [
    {
     "data": {
      "text/html": [
       "<div>\n",
       "<style scoped>\n",
       "    .dataframe tbody tr th:only-of-type {\n",
       "        vertical-align: middle;\n",
       "    }\n",
       "\n",
       "    .dataframe tbody tr th {\n",
       "        vertical-align: top;\n",
       "    }\n",
       "\n",
       "    .dataframe thead th {\n",
       "        text-align: right;\n",
       "    }\n",
       "</style>\n",
       "<table border=\"1\" class=\"dataframe\">\n",
       "  <thead>\n",
       "    <tr style=\"text-align: right;\">\n",
       "      <th></th>\n",
       "      <th>Unnamed: 0</th>\n",
       "      <th>airline_sentiment</th>\n",
       "      <th>text</th>\n",
       "    </tr>\n",
       "  </thead>\n",
       "  <tbody>\n",
       "    <tr>\n",
       "      <th>0</th>\n",
       "      <td>1</td>\n",
       "      <td>positive</td>\n",
       "      <td>@VirginAmerica plus you've added commercials t...</td>\n",
       "    </tr>\n",
       "    <tr>\n",
       "      <th>1</th>\n",
       "      <td>3</td>\n",
       "      <td>negative</td>\n",
       "      <td>@VirginAmerica it's really aggressive to blast...</td>\n",
       "    </tr>\n",
       "    <tr>\n",
       "      <th>2</th>\n",
       "      <td>4</td>\n",
       "      <td>negative</td>\n",
       "      <td>@VirginAmerica and it's a really big bad thing...</td>\n",
       "    </tr>\n",
       "    <tr>\n",
       "      <th>3</th>\n",
       "      <td>5</td>\n",
       "      <td>negative</td>\n",
       "      <td>@VirginAmerica seriously would pay $30 a fligh...</td>\n",
       "    </tr>\n",
       "    <tr>\n",
       "      <th>4</th>\n",
       "      <td>6</td>\n",
       "      <td>positive</td>\n",
       "      <td>@VirginAmerica yes, nearly every time I fly VX...</td>\n",
       "    </tr>\n",
       "  </tbody>\n",
       "</table>\n",
       "</div>"
      ],
      "text/plain": [
       "   Unnamed: 0 airline_sentiment  \\\n",
       "0           1          positive   \n",
       "1           3          negative   \n",
       "2           4          negative   \n",
       "3           5          negative   \n",
       "4           6          positive   \n",
       "\n",
       "                                                text  \n",
       "0  @VirginAmerica plus you've added commercials t...  \n",
       "1  @VirginAmerica it's really aggressive to blast...  \n",
       "2  @VirginAmerica and it's a really big bad thing...  \n",
       "3  @VirginAmerica seriously would pay $30 a fligh...  \n",
       "4  @VirginAmerica yes, nearly every time I fly VX...  "
      ]
     },
     "execution_count": 1,
     "metadata": {},
     "output_type": "execute_result"
    }
   ],
   "source": [
    "import numpy as np\n",
    "import pandas as pd\n",
    "from text_manipulation import *\n",
    "\n",
    "plt.style.use('seaborn')\n",
    "\n",
    "data = pd.read_csv('airline_sentiment_analysis.csv')\n",
    "data.head()"
   ]
  },
  {
   "cell_type": "markdown",
   "metadata": {},
   "source": [
    "## Data Preprocessing"
   ]
  },
  {
   "cell_type": "markdown",
   "metadata": {},
   "source": [
    "Creating instance of class TextProcessing"
   ]
  },
  {
   "cell_type": "code",
   "execution_count": 2,
   "metadata": {},
   "outputs": [
    {
     "name": "stdout",
     "output_type": "stream",
     "text": [
      "Data loaded !\n",
      "2 classes in labels: negative, positive\n",
      "\n",
      "Checking for null values...\n",
      "No null values in any feature and label columns of dataset\n"
     ]
    },
    {
     "data": {
      "image/png": "[encoded data removed]",
      "text/plain": [
       "<Figure size 576x396 with 1 Axes>"
      ]
     },
     "metadata": {},
     "output_type": "display_data"
    }
   ],
   "source": [
    "train_preprocess = TextProcessing(data, text_col='text', label_col='airline_sentiment' ,is_training=True)"
   ]
  },
  {
   "cell_type": "markdown",
   "metadata": {},
   "source": [
    "encoding labels into numeric format like binary/one-hot-code"
   ]
  },
  {
   "cell_type": "code",
   "execution_count": 3,
   "metadata": {},
   "outputs": [],
   "source": [
    "trained_encode_labels = train_preprocess.encode_labels(using_sklearn_model=True)"
   ]
  },
  {
   "cell_type": "markdown",
   "metadata": {},
   "source": [
    "creating corpus by cleaning texts"
   ]
  },
  {
   "cell_type": "code",
   "execution_count": 4,
   "metadata": {},
   "outputs": [
    {
     "name": "stdout",
     "output_type": "stream",
     "text": [
      "Corpus created successfully\n"
     ]
    }
   ],
   "source": [
    "trained_pronoun_token = train_preprocess.create_corpus(use_pronoun_token=False)"
   ]
  },
  {
   "cell_type": "markdown",
   "metadata": {},
   "source": [
    "#### Let's see corpus created"
   ]
  },
  {
   "cell_type": "code",
   "execution_count": 5,
   "metadata": {},
   "outputs": [
    {
     "name": "stdout",
     "output_type": "stream",
     "text": [
      "\n",
      "Label: negative\n",
      "Original text: @JetBlue I ❤️ Jetblue but i was on flt 277 from fll to sfo. tke off was over 1 hr Late Flight, div to phx &amp; got in 2 hrs Late Flight. What will be done?\n",
      "Reduced text: i jetblue but i be on flt from fll to sfo tke off be over hr late flight div to phx amp get in hrs late flight what will be do\n",
      "\n",
      "Label: negative\n",
      "Original text: @USAirways 4 segments, 4/4 delayed. Gnv &gt; CTL . CTL &gt; JAN . JAN &gt; CTL . CTL &gt; GNV. My year off from flying with you guys was the way to go.\n",
      "Reduced text: segment delay gnv gt ctl ctl gt jan jan gt ctl ctl gt gnv my year off from fly with you guy be the way to go\n",
      "\n",
      "Label: negative\n",
      "Original text: @united Ha… you rebooked me in to an 11 hr layover &amp; are robbing me of a night with my family. Too Late Flight for that. Just fly on time for once.\n",
      "Reduced text: ha you rebooke me in to an hr layover amp be rob me of a night with my family too late flight for that just fly on time for once\n",
      "\n",
      "Label: negative\n",
      "Original text: @USAirways doesn't let u do stand by on flight due to checked bag causing u to get in 5 hours Late Flightr only to get to PHL &amp; bag didn't make it\n",
      "Reduced text: do not let u do stand by on flight due to check bag cause u to get in hour late flightr only to get to phl amp bag do not make it\n",
      "\n",
      "Label: negative\n",
      "Original text: @AmericanAir You've now put me on a BA flight - can I get access for 2 for the lounge? Been at ORD for 11.5 hrs now and still have 5 to go.\n",
      "Reduced text: you have now put me on a ba flight can i get access for for the lounge be at ord for hrs now and still have to go\n",
      "\n",
      "Label: negative\n",
      "Original text: @united I just want to contact someone with a question &amp; not be put on hold for 5 minutes in order to be hung up on or sent to the pet line\n",
      "Reduced text: i just want to contact someone with a question amp not be put on hold for minute in order to be hang up on or send to the pet line\n",
      "\n",
      "Label: negative\n",
      "Original text: @USAirways 5 hr flight delay and a delay when we land . Is that even real life ? Get me off this plane , I wanna go home 👠👠👠 (3 heel clicks)\n",
      "Reduced text: hr flight delay and a delay when we land be that even real life get me off this plane i wanna go home heel click\n",
      "\n",
      "Label: negative\n",
      "Original text: @united I sure did.   I had to drive a total of 3 hours to get my own bag.  I'd like to explain that debacle but no one wants to talk to me.\n",
      "Reduced text: i sure do i have to drive a total of hour to get my own bag i like to explain that debacle but no one want to talk to me\n",
      "\n",
      "Label: negative\n",
      "Original text: @united I was on hold for over 20 minutes and was talking to one of your employees. I asked him for name or id # and he hung up in my face!\n",
      "Reduced text: i be on hold for over minute and be talk to one of your employee i ask him for name or i d and he hang up in my face\n",
      "\n",
      "Label: negative\n",
      "Original text: @AmericanAir 4828 but I just missed it because no one is at the gate to marshall us in so now I have to rent a car &amp; drive 5 hrs. So thanks.\n",
      "Reduced text: but i just miss it because no one be at the gate to marshall us in so now i have to rent a car amp drive hrs so thank\n"
     ]
    }
   ],
   "source": [
    "train_preprocess.view_corpus(text_length_order='DESC')"
   ]
  },
  {
   "cell_type": "markdown",
   "metadata": {},
   "source": [
    "Let's see dataframe created in current instance for text-processing"
   ]
  },
  {
   "cell_type": "code",
   "execution_count": 6,
   "metadata": {},
   "outputs": [
    {
     "name": "stdout",
     "output_type": "stream",
     "text": [
      "Matrix using corpora is built with 'tfidf' mode\n",
      "Total words in corpora: 8675\n",
      "Shape of bow matrix: (11541, 8676)\n"
     ]
    }
   ],
   "source": [
    "trained_tokenizer, trained_bow_matrix_mode = train_preprocess.create_final_features(final_features='bow_matrix', mode='tfidf')"
   ]
  },
  {
   "cell_type": "code",
   "execution_count": 7,
   "metadata": {},
   "outputs": [],
   "source": [
    "class_names = train_preprocess.classes.tolist()"
   ]
  },
  {
   "cell_type": "markdown",
   "metadata": {},
   "source": [
    "#### Splitting X & y into train & test set"
   ]
  },
  {
   "cell_type": "code",
   "execution_count": 8,
   "metadata": {},
   "outputs": [
    {
     "data": {
      "image/png": "[encoded data removed]",
      "text/plain": [
       "<Figure size 720x360 with 2 Axes>"
      ]
     },
     "metadata": {},
     "output_type": "display_data"
    }
   ],
   "source": [
    "X_train, X_test, y_train, y_test = train_preprocess.split_data(test_size=0.2)"
   ]
  },
  {
   "cell_type": "code",
   "execution_count": 9,
   "metadata": {},
   "outputs": [
    {
     "name": "stdout",
     "output_type": "stream",
     "text": [
      "Shape of X_train: (9232, 8676)\n",
      "Shape of y_train: (9232,)\n",
      "Shape of X_test: (9232, 8676)\n",
      "Shape of y_test: (2309,)\n"
     ]
    }
   ],
   "source": [
    "print('Shape of X_train:', X_train.shape)\n",
    "print('Shape of y_train:', y_train.shape)\n",
    "print('Shape of X_test:', X_train.shape)\n",
    "print('Shape of y_test:', y_test.shape)"
   ]
  },
  {
   "cell_type": "code",
   "execution_count": 10,
   "metadata": {},
   "outputs": [],
   "source": [
    "from sklearn.linear_model import LogisticRegression\n",
    "from sklearn.ensemble import RandomForestClassifier\n",
    "from xgboost import XGBClassifier"
   ]
  },
  {
   "cell_type": "markdown",
   "metadata": {},
   "source": [
    "### Fitting different classifier models"
   ]
  },
  {
   "cell_type": "markdown",
   "metadata": {},
   "source": [
    "#### Logistic Regression Classifier "
   ]
  },
  {
   "cell_type": "code",
   "execution_count": 11,
   "metadata": {},
   "outputs": [
    {
     "data": {
      "text/plain": [
       "LogisticRegression(max_iter=200, random_state=100)"
      ]
     },
     "execution_count": 11,
     "metadata": {},
     "output_type": "execute_result"
    }
   ],
   "source": [
    "LR_classifier = LogisticRegression(max_iter=200, random_state=100)\n",
    "LR_classifier.fit(X_train, y_train)"
   ]
  },
  {
   "cell_type": "markdown",
   "metadata": {},
   "source": [
    "#### Random Forest Classifier"
   ]
  },
  {
   "cell_type": "code",
   "execution_count": 12,
   "metadata": {},
   "outputs": [
    {
     "data": {
      "text/plain": [
       "RandomForestClassifier(random_state=100)"
      ]
     },
     "execution_count": 12,
     "metadata": {},
     "output_type": "execute_result"
    }
   ],
   "source": [
    "RF_classifier = RandomForestClassifier(random_state=100)\n",
    "RF_classifier.fit(X_train, y_train)"
   ]
  },
  {
   "cell_type": "markdown",
   "metadata": {},
   "source": [
    "#### XGBoost Classifier"
   ]
  },
  {
   "cell_type": "code",
   "execution_count": 13,
   "metadata": {},
   "outputs": [
    {
     "data": {
      "text/plain": [
       "XGBClassifier(base_score=0.5, booster='gbtree', colsample_bylevel=1,\n",
       "              colsample_bynode=1, colsample_bytree=1, gamma=0, gpu_id=-1,\n",
       "              importance_type='gain', interaction_constraints='',\n",
       "              learning_rate=0.300000012, max_delta_step=0, max_depth=6,\n",
       "              min_child_weight=1, missing=nan, monotone_constraints='()',\n",
       "              n_estimators=100, n_jobs=0, num_parallel_tree=1, random_state=100,\n",
       "              reg_alpha=0, reg_lambda=1, scale_pos_weight=1, subsample=1,\n",
       "              tree_method='exact', validate_parameters=1, verbosity=None)"
      ]
     },
     "execution_count": 13,
     "metadata": {},
     "output_type": "execute_result"
    }
   ],
   "source": [
    "XGB_classifier = XGBClassifier(random_state=100)\n",
    "XGB_classifier.fit(X_train, y_train)"
   ]
  },
  {
   "cell_type": "code",
   "execution_count": 14,
   "metadata": {},
   "outputs": [],
   "source": [
    "from sklearn.metrics import f1_score, classification_report, plot_confusion_matrix"
   ]
  },
  {
   "cell_type": "code",
   "execution_count": 15,
   "metadata": {},
   "outputs": [],
   "source": [
    "classifiers = {'Logistic Regression Classifier': LR_classifier, 'Random Forest Classifier':RF_classifier,\n",
    "               'XGBoost Classifier': XGB_classifier}"
   ]
  },
  {
   "cell_type": "markdown",
   "metadata": {},
   "source": [
    "### Predictions on our custom input text using trained models"
   ]
  },
  {
   "cell_type": "code",
   "execution_count": 16,
   "metadata": {},
   "outputs": [],
   "source": [
    "def predict_sentiment(clf_name, texts):\n",
    "    \"\"\"Inferencing on any text dataset\"\"\"\n",
    "\n",
    "    data = pd.DataFrame({'text':texts})\n",
    "    test_preprocess = TextProcessing(data, text_col='text', is_training=False)\n",
    "    test_preprocess.create_corpus(use_pronoun_token=trained_pronoun_token)\n",
    "    test_preprocess.create_final_features(trained_tokenizer=trained_tokenizer, final_features='bow_matrix', mode=trained_bow_matrix_mode)\n",
    "    X = test_preprocess.X\n",
    "    classifier = classifiers[clf_name]\n",
    "    results = classifier.predict(X)\n",
    "    results = trained_encode_labels.inverse_transform(results)\n",
    "    return results.tolist()"
   ]
  },
  {
   "cell_type": "code",
   "execution_count": 17,
   "metadata": {},
   "outputs": [],
   "source": [
    "sentences = [\"shut up\", \"yeah fucking amazing\", \"poor hygiene\", \"I'm gonna sue you\", \"it was classy\"]"
   ]
  },
  {
   "cell_type": "code",
   "execution_count": 18,
   "metadata": {},
   "outputs": [
    {
     "name": "stdout",
     "output_type": "stream",
     "text": [
      "Logistic Regression Classifier\n",
      "['negative', 'negative', 'negative', 'negative', 'positive']\n",
      "\n",
      "Random Forest Classifier\n",
      "['positive', 'positive', 'negative', 'negative', 'negative']\n",
      "\n",
      "XGBoost Classifier\n",
      "['negative', 'positive', 'negative', 'negative', 'negative']\n",
      "\n"
     ]
    }
   ],
   "source": [
    "for classifier in classifiers:\n",
    "    print(classifier)\n",
    "    print(predict_sentiment(classifier, texts=sentences))\n",
    "    print()"
   ]
  },
  {
   "cell_type": "markdown",
   "metadata": {},
   "source": [
    "### Brief evaluation using metrics in classification report"
   ]
  },
  {
   "cell_type": "code",
   "execution_count": 22,
   "metadata": {},
   "outputs": [
    {
     "name": "stdout",
     "output_type": "stream",
     "text": [
      "  <<<<<<< Logistic Regression Classifier >>>>>>>  \n",
      "                    Train set                     \n",
      "              precision    recall  f1-score   support\n",
      "\n",
      "    negative       1.00      1.00      1.00      7346\n",
      "    positive       1.00      0.99      0.99      1886\n",
      "\n",
      "    accuracy                           1.00      9232\n",
      "   macro avg       1.00      1.00      1.00      9232\n",
      "weighted avg       1.00      1.00      1.00      9232\n",
      "\n",
      "                     Test set                     \n",
      "              precision    recall  f1-score   support\n",
      "\n",
      "    negative       0.94      0.95      0.95      1832\n",
      "    positive       0.80      0.77      0.78       477\n",
      "\n",
      "    accuracy                           0.91      2309\n",
      "   macro avg       0.87      0.86      0.86      2309\n",
      "weighted avg       0.91      0.91      0.91      2309\n",
      "\n",
      "\n",
      "     <<<<<<< Random Forest Classifier >>>>>>>     \n",
      "                    Train set                     \n",
      "              precision    recall  f1-score   support\n",
      "\n",
      "    negative       1.00      1.00      1.00      7346\n",
      "    positive       1.00      1.00      1.00      1886\n",
      "\n",
      "    accuracy                           1.00      9232\n",
      "   macro avg       1.00      1.00      1.00      9232\n",
      "weighted avg       1.00      1.00      1.00      9232\n",
      "\n",
      "                     Test set                     \n",
      "              precision    recall  f1-score   support\n",
      "\n",
      "    negative       0.89      1.00      0.94      1832\n",
      "    positive       0.97      0.51      0.67       477\n",
      "\n",
      "    accuracy                           0.90      2309\n",
      "   macro avg       0.93      0.75      0.80      2309\n",
      "weighted avg       0.90      0.90      0.88      2309\n",
      "\n",
      "\n",
      "        <<<<<<< XGBoost Classifier >>>>>>>        \n",
      "                    Train set                     \n",
      "              precision    recall  f1-score   support\n",
      "\n",
      "    negative       0.94      0.99      0.97      7346\n",
      "    positive       0.95      0.77      0.85      1886\n",
      "\n",
      "    accuracy                           0.95      9232\n",
      "   macro avg       0.95      0.88      0.91      9232\n",
      "weighted avg       0.95      0.95      0.94      9232\n",
      "\n",
      "                     Test set                     \n",
      "              precision    recall  f1-score   support\n",
      "\n",
      "    negative       0.92      0.98      0.95      1832\n",
      "    positive       0.88      0.69      0.77       477\n",
      "\n",
      "    accuracy                           0.92      2309\n",
      "   macro avg       0.90      0.83      0.86      2309\n",
      "weighted avg       0.91      0.92      0.91      2309\n",
      "\n",
      "\n"
     ]
    }
   ],
   "source": [
    "for clf_name, classifier in classifiers.items():\n",
    "    print(f'<<<<<<< {clf_name} >>>>>>>'.center(50))\n",
    "    print(\"Train set\".center(50))\n",
    "    train_results = classifier.predict(X_train)\n",
    "    print(classification_report(y_train, train_results, target_names=class_names))\n",
    "    print(\"Test set\".center(50))\n",
    "    test_results = classifier.predict(X_test)\n",
    "    print(classification_report(y_test, test_results, target_names=class_names))\n",
    "    print()"
   ]
  },
  {
   "cell_type": "code",
   "execution_count": null,
   "metadata": {},
   "outputs": [],
   "source": []
  }
 ],
 "metadata": {
  "kernelspec": {
   "display_name": "Python 3",
   "language": "python",
   "name": "python3"
  },
  "language_info": {
   "codemirror_mode": {
    "name": "ipython",
    "version": 3
   },
   "file_extension": ".py",
   "mimetype": "text/x-python",
   "name": "python",
   "nbconvert_exporter": "python",
   "pygments_lexer": "ipython3",
   "version": "3.6.9"
  }
 },
 "nbformat": 4,
 "nbformat_minor": 4
}
