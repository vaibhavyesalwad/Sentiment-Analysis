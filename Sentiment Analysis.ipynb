{
 "cells": [
  {
   "cell_type": "markdown",
   "metadata": {},
   "source": [
    "## Reading dataset"
   ]
  },
  {
   "cell_type": "code",
   "execution_count": 1,
   "metadata": {},
   "outputs": [
    {
     "data": {
      "text/html": [
       "<div>\n",
       "<style scoped>\n",
       "    .dataframe tbody tr th:only-of-type {\n",
       "        vertical-align: middle;\n",
       "    }\n",
       "\n",
       "    .dataframe tbody tr th {\n",
       "        vertical-align: top;\n",
       "    }\n",
       "\n",
       "    .dataframe thead th {\n",
       "        text-align: right;\n",
       "    }\n",
       "</style>\n",
       "<table border=\"1\" class=\"dataframe\">\n",
       "  <thead>\n",
       "    <tr style=\"text-align: right;\">\n",
       "      <th></th>\n",
       "      <th>Unnamed: 0</th>\n",
       "      <th>airline_sentiment</th>\n",
       "      <th>text</th>\n",
       "    </tr>\n",
       "  </thead>\n",
       "  <tbody>\n",
       "    <tr>\n",
       "      <th>0</th>\n",
       "      <td>1</td>\n",
       "      <td>positive</td>\n",
       "      <td>@VirginAmerica plus you've added commercials t...</td>\n",
       "    </tr>\n",
       "    <tr>\n",
       "      <th>1</th>\n",
       "      <td>3</td>\n",
       "      <td>negative</td>\n",
       "      <td>@VirginAmerica it's really aggressive to blast...</td>\n",
       "    </tr>\n",
       "    <tr>\n",
       "      <th>2</th>\n",
       "      <td>4</td>\n",
       "      <td>negative</td>\n",
       "      <td>@VirginAmerica and it's a really big bad thing...</td>\n",
       "    </tr>\n",
       "    <tr>\n",
       "      <th>3</th>\n",
       "      <td>5</td>\n",
       "      <td>negative</td>\n",
       "      <td>@VirginAmerica seriously would pay $30 a fligh...</td>\n",
       "    </tr>\n",
       "    <tr>\n",
       "      <th>4</th>\n",
       "      <td>6</td>\n",
       "      <td>positive</td>\n",
       "      <td>@VirginAmerica yes, nearly every time I fly VX...</td>\n",
       "    </tr>\n",
       "  </tbody>\n",
       "</table>\n",
       "</div>"
      ],
      "text/plain": [
       "   Unnamed: 0 airline_sentiment  \\\n",
       "0           1          positive   \n",
       "1           3          negative   \n",
       "2           4          negative   \n",
       "3           5          negative   \n",
       "4           6          positive   \n",
       "\n",
       "                                                text  \n",
       "0  @VirginAmerica plus you've added commercials t...  \n",
       "1  @VirginAmerica it's really aggressive to blast...  \n",
       "2  @VirginAmerica and it's a really big bad thing...  \n",
       "3  @VirginAmerica seriously would pay $30 a fligh...  \n",
       "4  @VirginAmerica yes, nearly every time I fly VX...  "
      ]
     },
     "execution_count": 1,
     "metadata": {},
     "output_type": "execute_result"
    }
   ],
   "source": [
    "import numpy as np\n",
    "import matplotlib.pyplot as plt\n",
    "import pandas as pd\n",
    "from sklearn.model_selection import train_test_split\n",
    "import nltk\n",
    "from tensorflow.keras.preprocessing.text import Tokenizer\n",
    "from tensorflow.keras.preprocessing.sequence import pad_sequences\n",
    "import matplotlib.pyplot as plt\n",
    "import re\n",
    "\n",
    "\n",
    "data = pd.read_csv('airline_sentiment_analysis.csv')\n",
    "data.head()"
   ]
  },
  {
   "cell_type": "markdown",
   "metadata": {},
   "source": [
    "### Taking out feature and label columns"
   ]
  },
  {
   "cell_type": "code",
   "execution_count": 2,
   "metadata": {},
   "outputs": [
    {
     "data": {
      "text/html": [
       "<div>\n",
       "<style scoped>\n",
       "    .dataframe tbody tr th:only-of-type {\n",
       "        vertical-align: middle;\n",
       "    }\n",
       "\n",
       "    .dataframe tbody tr th {\n",
       "        vertical-align: top;\n",
       "    }\n",
       "\n",
       "    .dataframe thead th {\n",
       "        text-align: right;\n",
       "    }\n",
       "</style>\n",
       "<table border=\"1\" class=\"dataframe\">\n",
       "  <thead>\n",
       "    <tr style=\"text-align: right;\">\n",
       "      <th></th>\n",
       "      <th>text</th>\n",
       "      <th>airline_sentiment</th>\n",
       "    </tr>\n",
       "  </thead>\n",
       "  <tbody>\n",
       "    <tr>\n",
       "      <th>0</th>\n",
       "      <td>@VirginAmerica plus you've added commercials t...</td>\n",
       "      <td>positive</td>\n",
       "    </tr>\n",
       "    <tr>\n",
       "      <th>1</th>\n",
       "      <td>@VirginAmerica it's really aggressive to blast...</td>\n",
       "      <td>negative</td>\n",
       "    </tr>\n",
       "    <tr>\n",
       "      <th>2</th>\n",
       "      <td>@VirginAmerica and it's a really big bad thing...</td>\n",
       "      <td>negative</td>\n",
       "    </tr>\n",
       "    <tr>\n",
       "      <th>3</th>\n",
       "      <td>@VirginAmerica seriously would pay $30 a fligh...</td>\n",
       "      <td>negative</td>\n",
       "    </tr>\n",
       "    <tr>\n",
       "      <th>4</th>\n",
       "      <td>@VirginAmerica yes, nearly every time I fly VX...</td>\n",
       "      <td>positive</td>\n",
       "    </tr>\n",
       "  </tbody>\n",
       "</table>\n",
       "</div>"
      ],
      "text/plain": [
       "                                                text airline_sentiment\n",
       "0  @VirginAmerica plus you've added commercials t...          positive\n",
       "1  @VirginAmerica it's really aggressive to blast...          negative\n",
       "2  @VirginAmerica and it's a really big bad thing...          negative\n",
       "3  @VirginAmerica seriously would pay $30 a fligh...          negative\n",
       "4  @VirginAmerica yes, nearly every time I fly VX...          positive"
      ]
     },
     "execution_count": 2,
     "metadata": {},
     "output_type": "execute_result"
    }
   ],
   "source": [
    "data = data[['text', 'airline_sentiment']]\n",
    "data.head()"
   ]
  },
  {
   "cell_type": "markdown",
   "metadata": {},
   "source": [
    "### Checking null values"
   ]
  },
  {
   "cell_type": "code",
   "execution_count": 3,
   "metadata": {},
   "outputs": [
    {
     "data": {
      "text/plain": [
       "text                 0\n",
       "airline_sentiment    0\n",
       "dtype: int64"
      ]
     },
     "execution_count": 3,
     "metadata": {},
     "output_type": "execute_result"
    }
   ],
   "source": [
    "data.isna().sum()"
   ]
  },
  {
   "cell_type": "markdown",
   "metadata": {},
   "source": [
    "### Observing distribution of different label classes"
   ]
  },
  {
   "cell_type": "code",
   "execution_count": 4,
   "metadata": {},
   "outputs": [
    {
     "data": {
      "image/png": "[encoded data removed]",
      "text/plain": [
       "<Figure size 576x396 with 1 Axes>"
      ]
     },
     "metadata": {},
     "output_type": "display_data"
    }
   ],
   "source": [
    "plt.style.use('seaborn')\n",
    "data['airline_sentiment'].value_counts().plot(kind='bar')\n",
    "plt.xlabel('Counts')\n",
    "plt.ylabel('Classes')\n",
    "plt.show()"
   ]
  },
  {
   "cell_type": "markdown",
   "metadata": {},
   "source": [
    "### Splitting data x -> features and y -> label"
   ]
  },
  {
   "cell_type": "code",
   "execution_count": 5,
   "metadata": {},
   "outputs": [],
   "source": [
    "X, y = data['text'], data['airline_sentiment']"
   ]
  },
  {
   "cell_type": "markdown",
   "metadata": {},
   "source": [
    "## Creating BoW corpus"
   ]
  },
  {
   "cell_type": "code",
   "execution_count": 6,
   "metadata": {},
   "outputs": [],
   "source": [
    "import spacy\n",
    "from nltk.corpus import stopwords\n",
    "import re\n",
    "from nltk.stem import WordNetLemmatizer"
   ]
  },
  {
   "cell_type": "code",
   "execution_count": 7,
   "metadata": {},
   "outputs": [],
   "source": [
    "nlp = spacy.load('en')\n",
    "\n",
    "# STOP_words = set(stopwords.words('english'))\n",
    "# wl = WordNetLemmatizer()\n",
    "\n",
    "def create_corpus(data):\n",
    "    corpus = []\n",
    "    for sent in data:\n",
    "#         print()\n",
    "#         print(sent)\n",
    "#         print()\n",
    "        tokens = nlp(sent.lower())\n",
    "        \n",
    "        words = []\n",
    "        for token in tokens:\n",
    "            lemma = token.lemma_\n",
    "            if not (token.is_punct or token.is_space or not lemma.isalnum() or lemma.isnumeric()):\n",
    "                words.append(lemma)\n",
    "\n",
    "        text = \" \".join(words)\n",
    "        corpus.append(text)\n",
    "#         print(text)\n",
    "    return corpus"
   ]
  },
  {
   "cell_type": "code",
   "execution_count": 8,
   "metadata": {},
   "outputs": [],
   "source": [
    "corpus = create_corpus(X)"
   ]
  },
  {
   "cell_type": "markdown",
   "metadata": {},
   "source": [
    "### Let's see corpus created"
   ]
  },
  {
   "cell_type": "code",
   "execution_count": 9,
   "metadata": {},
   "outputs": [
    {
     "name": "stdout",
     "output_type": "stream",
     "text": [
      "Class: positive\n",
      "Original tweet: @VirginAmerica plus you've added commercials to the experience... tacky.\n",
      "Resultant tweet: plus have add commercial to the experience tacky\n",
      "\n",
      "Class: negative\n",
      "Original tweet: @VirginAmerica it's really aggressive to blast obnoxious \"entertainment\" in your guests' faces &amp; they have little recourse\n",
      "Resultant tweet: be really aggressive to blast obnoxious entertainment in guest face amp have little recourse\n",
      "\n",
      "Class: negative\n",
      "Original tweet: @VirginAmerica and it's a really big bad thing about it\n",
      "Resultant tweet: and be a really big bad thing about\n",
      "\n",
      "Class: negative\n",
      "Original tweet: @VirginAmerica seriously would pay $30 a flight for seats that didn't have this playing.\n",
      "it's really the only bad thing about flying VA\n",
      "Resultant tweet: seriously would pay a flight for seat that do not have this playing be really the only bad thing about fly va\n",
      "\n",
      "Class: positive\n",
      "Original tweet: @VirginAmerica yes, nearly every time I fly VX this “ear worm” won’t go away :)\n",
      "Resultant tweet: yes nearly every time i fly vx this ear worm will not go away\n",
      "\n",
      "Class: positive\n",
      "Original tweet: @virginamerica Well, I didn't…but NOW I DO! :-D\n",
      "Resultant tweet: well i but now i do\n",
      "\n",
      "Class: positive\n",
      "Original tweet: @VirginAmerica it was amazing, and arrived an hour early. You're too good to me.\n",
      "Resultant tweet: be amazing and arrive an hour early be too good to\n",
      "\n",
      "Class: positive\n",
      "Original tweet: @VirginAmerica I &lt;3 pretty graphics. so much better than minimal iconography. :D\n",
      "Resultant tweet: i pretty graphic so much well than minimal iconography d\n",
      "\n",
      "Class: positive\n",
      "Original tweet: @VirginAmerica This is such a great deal! Already thinking about my 2nd trip to @Australia &amp; I haven't even gone on my 1st trip yet! ;p\n",
      "Resultant tweet: this be such a great deal already think about 2nd trip to amp i have not even go on 1st trip yet p\n",
      "\n",
      "Class: positive\n",
      "Original tweet: @VirginAmerica @virginmedia I'm flying your #fabulous #Seductive skies again! U take all the #stress away from travel http://t.co/ahlXHhKiyn\n",
      "Resultant tweet: be fly fabulous seductive sky again u take all the stress away from travel\n",
      "\n"
     ]
    }
   ],
   "source": [
    "for i in range(10):\n",
    "        print('Class:', y[i])\n",
    "        print('Original tweet:', X[i])\n",
    "        print('Resultant tweet:', corpus[i])\n",
    "        print()        "
   ]
  },
  {
   "cell_type": "markdown",
   "metadata": {},
   "source": [
    "### Checking length of resultant sentences"
   ]
  },
  {
   "cell_type": "code",
   "execution_count": 10,
   "metadata": {},
   "outputs": [
    {
     "data": {
      "text/plain": [
       "Counter({8: 276,\n",
       "         14: 525,\n",
       "         22: 681,\n",
       "         6: 284,\n",
       "         11: 402,\n",
       "         10: 354,\n",
       "         23: 549,\n",
       "         1: 154,\n",
       "         20: 851,\n",
       "         25: 244,\n",
       "         2: 148,\n",
       "         15: 562,\n",
       "         4: 209,\n",
       "         18: 754,\n",
       "         16: 634,\n",
       "         26: 134,\n",
       "         17: 676,\n",
       "         13: 466,\n",
       "         7: 280,\n",
       "         5: 235,\n",
       "         19: 850,\n",
       "         12: 415,\n",
       "         21: 850,\n",
       "         9: 337,\n",
       "         3: 185,\n",
       "         24: 393,\n",
       "         28: 24,\n",
       "         27: 61,\n",
       "         30: 1,\n",
       "         29: 5,\n",
       "         31: 2})"
      ]
     },
     "execution_count": 10,
     "metadata": {},
     "output_type": "execute_result"
    }
   ],
   "source": [
    "from collections import Counter\n",
    "Counter(len(resultant_sent.split()) for resultant_sent in corpus)"
   ]
  },
  {
   "cell_type": "code",
   "execution_count": 11,
   "metadata": {},
   "outputs": [
    {
     "name": "stdout",
     "output_type": "stream",
     "text": [
      "So, now every resultant tweet has at least one word\n"
     ]
    }
   ],
   "source": [
    "# making sure there is at least one word for every resultant sentence in corpus\n",
    "count = 0\n",
    "for i in range(len(corpus)):\n",
    "    if len(corpus[i].split()) == 0:\n",
    "        print('Class:', y[i])\n",
    "        print('Original tweet:', X[i])\n",
    "        print('Resultant tweet:', corpus[i])\n",
    "        count += 1\n",
    "        print()\n",
    "\n",
    "if count == 0:\n",
    "    print('So, now every resultant tweet has at least one word')"
   ]
  },
  {
   "cell_type": "markdown",
   "metadata": {},
   "source": [
    "## Creating tokens using keras "
   ]
  },
  {
   "cell_type": "code",
   "execution_count": 12,
   "metadata": {},
   "outputs": [],
   "source": [
    "from tensorflow.keras.preprocessing.text import Tokenizer\n",
    "\n",
    "tokenizer = Tokenizer()"
   ]
  },
  {
   "cell_type": "code",
   "execution_count": 13,
   "metadata": {},
   "outputs": [],
   "source": [
    "tokenizer.fit_on_texts(corpus)\n",
    "sequences = tokenizer.texts_to_sequences(corpus)"
   ]
  },
  {
   "cell_type": "code",
   "execution_count": 14,
   "metadata": {},
   "outputs": [
    {
     "name": "stdout",
     "output_type": "stream",
     "text": [
      "Total words in corpus 8658\n"
     ]
    }
   ],
   "source": [
    "total_words = len(tokenizer.word_index)\n",
    "print('Total words in corpus', total_words)"
   ]
  },
  {
   "cell_type": "markdown",
   "metadata": {},
   "source": [
    "### Let's see what transformations we have done"
   ]
  },
  {
   "cell_type": "code",
   "execution_count": 15,
   "metadata": {},
   "outputs": [
    {
     "name": "stdout",
     "output_type": "stream",
     "text": [
      "plus have add commercial to the experience tacky\n",
      "[469, 11, 317, 1123, 2, 3, 129, 4125]\n",
      "plus 469\n",
      "have 11\n",
      "add 317\n",
      "commercial 1123\n",
      "to 2\n",
      "the 3\n",
      "experience 129\n",
      "tacky 4125\n",
      "\n",
      "be really aggressive to blast obnoxious entertainment in guest face amp have little recourse\n",
      "[1, 108, 2434, 2, 1829, 2985, 780, 12, 1664, 864, 49, 11, 399, 1830]\n",
      "be 1\n",
      "really 108\n",
      "aggressive 2434\n",
      "to 2\n",
      "blast 1829\n",
      "obnoxious 2985\n",
      "entertainment 780\n",
      "in 12\n",
      "guest 1664\n",
      "face 864\n",
      "amp 49\n",
      "have 11\n",
      "little 399\n",
      "recourse 1830\n",
      "\n",
      "and be a really big bad thing about\n",
      "[9, 1, 6, 108, 322, 62, 227, 69]\n",
      "and 9\n",
      "be 1\n",
      "a 6\n",
      "really 108\n",
      "big 322\n",
      "bad 62\n",
      "thing 227\n",
      "about 69\n",
      "\n",
      "seriously would pay a flight for seat that do not have this playing be really the only bad thing about fly va\n",
      "[312, 59, 122, 6, 5, 8, 70, 16, 13, 7, 11, 22, 4126, 1, 108, 3, 105, 62, 227, 69, 48, 1542]\n",
      "seriously 312\n",
      "would 59\n",
      "pay 122\n",
      "a 6\n",
      "flight 5\n",
      "for 8\n",
      "seat 70\n",
      "that 16\n",
      "do 13\n",
      "not 7\n",
      "have 11\n",
      "this 22\n",
      "playing 4126\n",
      "be 1\n",
      "really 108\n",
      "the 3\n",
      "only 105\n",
      "bad 62\n",
      "thing 227\n",
      "about 69\n",
      "fly 48\n",
      "va 1542\n",
      "\n",
      "yes nearly every time i fly vx this ear worm will not go away\n",
      "[155, 1073, 240, 33, 4, 48, 1831, 22, 2986, 4127, 28, 7, 43, 376]\n",
      "yes 155\n",
      "nearly 1073\n",
      "every 240\n",
      "time 33\n",
      "i 4\n",
      "fly 48\n",
      "vx 1831\n",
      "this 22\n",
      "ear 2986\n",
      "worm 4127\n",
      "will 28\n",
      "not 7\n",
      "go 43\n",
      "away 376\n",
      "\n",
      "well i but now i do\n",
      "[94, 4, 24, 29, 4, 13]\n",
      "well 94\n",
      "i 4\n",
      "but 24\n",
      "now 29\n",
      "i 4\n",
      "do 13\n",
      "\n",
      "be amazing and arrive an hour early be too good to\n",
      "[1, 276, 9, 204, 32, 23, 178, 1, 144, 72, 2]\n",
      "be 1\n",
      "amazing 276\n",
      "and 9\n",
      "arrive 204\n",
      "an 32\n",
      "hour 23\n",
      "early 178\n",
      "be 1\n",
      "too 144\n",
      "good 72\n",
      "to 2\n",
      "\n",
      "i pretty graphic so much well than minimal iconography d\n",
      "[4, 533, 2987, 36, 145, 94, 130, 4128, 4129, 548]\n",
      "i 4\n",
      "pretty 533\n",
      "graphic 2987\n",
      "so 36\n",
      "much 145\n",
      "well 94\n",
      "than 130\n",
      "minimal 4128\n",
      "iconography 4129\n",
      "d 548\n",
      "\n",
      "this be such a great deal already think about 2nd trip to amp i have not even go on 1st trip yet p\n",
      "[22, 1, 452, 6, 93, 313, 188, 171, 69, 522, 157, 2, 49, 4, 11, 7, 111, 43, 10, 336, 157, 205, 2087]\n",
      "this 22\n",
      "be 1\n",
      "such 452\n",
      "a 6\n",
      "great 93\n",
      "deal 313\n",
      "already 188\n",
      "think 171\n",
      "about 69\n",
      "2nd 522\n",
      "trip 157\n",
      "to 2\n",
      "amp 49\n",
      "i 4\n",
      "have 11\n",
      "not 7\n",
      "even 111\n",
      "go 43\n",
      "on 10\n",
      "1st 336\n",
      "trip 157\n",
      "yet 205\n",
      "p 2087\n",
      "\n",
      "be fly fabulous seductive sky again u take all the stress away from travel\n",
      "[1, 48, 1445, 4130, 833, 78, 103, 67, 45, 3, 1272, 376, 31, 128]\n",
      "be 1\n",
      "fly 48\n",
      "fabulous 1445\n",
      "seductive 4130\n",
      "sky 833\n",
      "again 78\n",
      "u 103\n",
      "take 67\n",
      "all 45\n",
      "the 3\n",
      "stress 1272\n",
      "away 376\n",
      "from 31\n",
      "travel 128\n",
      "\n"
     ]
    }
   ],
   "source": [
    "for i in range(10):\n",
    "    print(corpus[i])\n",
    "    print(sequences[i])\n",
    "    for word in corpus[i].split():\n",
    "        print(word, tokenizer.word_index[word])\n",
    "    print()"
   ]
  },
  {
   "cell_type": "code",
   "execution_count": 16,
   "metadata": {},
   "outputs": [],
   "source": [
    "X_train, X_test, y_train, y_test = train_test_split(sequences, y, test_size=0.1)\n",
    "X_train, X_val, y_train, y_val = train_test_split(X_train, y_train, test_size =0.2)"
   ]
  },
  {
   "cell_type": "code",
   "execution_count": 17,
   "metadata": {},
   "outputs": [],
   "source": [
    "classes = np.unique(y_train)\n",
    "get_class_wise_count = lambda data:[np.where(data==cls,1, 0).sum() for cls in classes]"
   ]
  },
  {
   "cell_type": "code",
   "execution_count": 18,
   "metadata": {},
   "outputs": [
    {
     "data": {
      "image/png": "[encoded data removed]",
      "text/plain": [
       "<Figure size 1080x360 with 3 Axes>"
      ]
     },
     "metadata": {},
     "output_type": "display_data"
    }
   ],
   "source": [
    "fig, ax = plt.subplots(1,3, figsize=(15,5))\n",
    "    \n",
    "\n",
    "plt.subplot(1,3, 1)\n",
    "plt.bar(classes, get_class_wise_count(y_train))\n",
    "plt.xlabel('Classes')\n",
    "plt.ylabel('Count')\n",
    "plt.title('Train set')\n",
    "\n",
    "plt.subplot(1,3,2)\n",
    "plt.bar(classes, get_class_wise_count(y_val))\n",
    "plt.xlabel('Classes')\n",
    "plt.ylabel('Count')\n",
    "plt.title('Validation set')\n",
    "\n",
    "plt.subplot(1,3,3)\n",
    "plt.bar(classes, get_class_wise_count(y_test))\n",
    "plt.xlabel('Classes')\n",
    "plt.ylabel('Count')\n",
    "plt.title('Test set')\n",
    "plt.show()"
   ]
  },
  {
   "cell_type": "code",
   "execution_count": 19,
   "metadata": {},
   "outputs": [],
   "source": [
    "X_train = tokenizer.sequences_to_matrix(X_train, mode='count')\n",
    "X_val = tokenizer.sequences_to_matrix(X_val, mode='count')\n",
    "X_test = tokenizer.sequences_to_matrix(X_test, mode='count')"
   ]
  },
  {
   "cell_type": "code",
   "execution_count": 20,
   "metadata": {},
   "outputs": [],
   "source": [
    "from scipy import sparse\n",
    "X_train = sparse.csr_matrix(X_train)\n",
    "X_val = sparse.csr_matrix(X_val)\n",
    "X_test = sparse.csr_matrix(X_test)"
   ]
  },
  {
   "cell_type": "code",
   "execution_count": 21,
   "metadata": {},
   "outputs": [
    {
     "data": {
      "text/plain": [
       "((8308, 8659), (1155, 8659), (2078, 8659))"
      ]
     },
     "execution_count": 21,
     "metadata": {},
     "output_type": "execute_result"
    }
   ],
   "source": [
    "X_train.shape, X_test.shape, X_val.shape"
   ]
  },
  {
   "cell_type": "code",
   "execution_count": 22,
   "metadata": {},
   "outputs": [
    {
     "data": {
      "text/plain": [
       "((8308,), (1155,), (2078,))"
      ]
     },
     "execution_count": 22,
     "metadata": {},
     "output_type": "execute_result"
    }
   ],
   "source": [
    "y_train.shape, y_test.shape, y_val.shape"
   ]
  },
  {
   "cell_type": "markdown",
   "metadata": {},
   "source": [
    "## Prediction using different classification algorithms (Not deep neural networks)"
   ]
  },
  {
   "cell_type": "code",
   "execution_count": 23,
   "metadata": {},
   "outputs": [],
   "source": [
    "from sklearn.linear_model import LogisticRegression as LR\n",
    "from sklearn.neighbors import KNeighborsClassifier as KNN\n",
    "from sklearn.svm import SVC \n",
    "from sklearn.tree import DecisionTreeClassifier as DCT\n",
    "from sklearn.ensemble import RandomForestClassifier as RF\n",
    "from sklearn.naive_bayes import MultinomialNB \n",
    "from sklearn.metrics import confusion_matrix, roc_curve, classification_report"
   ]
  },
  {
   "cell_type": "code",
   "execution_count": 24,
   "metadata": {},
   "outputs": [],
   "source": [
    "classifiers = [LR(random_state=0),\n",
    "               KNN(), \n",
    "               SVC(random_state=0, probability=True), \n",
    "               DCT(random_state=0), \n",
    "               RF(random_state=0), \n",
    "               MultinomialNB()]\n",
    "classifier_names = ['Logistic', 'KNN', 'SVM', 'DecisionTree', 'RandomForest', 'MultinomialBayes']"
   ]
  },
  {
   "cell_type": "code",
   "execution_count": 25,
   "metadata": {},
   "outputs": [
    {
     "name": "stdout",
     "output_type": "stream",
     "text": [
      "<<<<<<<<<<< Logistic >>>>>>>>>>> \n",
      "\n",
      "Confusion matrix:\n",
      " [[886  26]\n",
      " [ 55 188]]\n",
      "\n",
      "Classification report:\n",
      "               precision    recall  f1-score   support\n",
      "\n",
      "    negative       0.94      0.97      0.96       912\n",
      "    positive       0.88      0.77      0.82       243\n",
      "\n",
      "    accuracy                           0.93      1155\n",
      "   macro avg       0.91      0.87      0.89      1155\n",
      "weighted avg       0.93      0.93      0.93      1155\n",
      "\n",
      "<<<<<<<<<<< KNN >>>>>>>>>>> \n",
      "\n",
      "Confusion matrix:\n",
      " [[731 181]\n",
      " [ 56 187]]\n",
      "\n",
      "Classification report:\n",
      "               precision    recall  f1-score   support\n",
      "\n",
      "    negative       0.93      0.80      0.86       912\n",
      "    positive       0.51      0.77      0.61       243\n",
      "\n",
      "    accuracy                           0.79      1155\n",
      "   macro avg       0.72      0.79      0.74      1155\n",
      "weighted avg       0.84      0.79      0.81      1155\n",
      "\n",
      "<<<<<<<<<<< SVM >>>>>>>>>>> \n",
      "\n",
      "Confusion matrix:\n",
      " [[894  18]\n",
      " [ 84 159]]\n",
      "\n",
      "Classification report:\n",
      "               precision    recall  f1-score   support\n",
      "\n",
      "    negative       0.91      0.98      0.95       912\n",
      "    positive       0.90      0.65      0.76       243\n",
      "\n",
      "    accuracy                           0.91      1155\n",
      "   macro avg       0.91      0.82      0.85      1155\n",
      "weighted avg       0.91      0.91      0.91      1155\n",
      "\n",
      "<<<<<<<<<<< DecisionTree >>>>>>>>>>> \n",
      "\n",
      "Confusion matrix:\n",
      " [[847  65]\n",
      " [ 77 166]]\n",
      "\n",
      "Classification report:\n",
      "               precision    recall  f1-score   support\n",
      "\n",
      "    negative       0.92      0.93      0.92       912\n",
      "    positive       0.72      0.68      0.70       243\n",
      "\n",
      "    accuracy                           0.88      1155\n",
      "   macro avg       0.82      0.81      0.81      1155\n",
      "weighted avg       0.87      0.88      0.88      1155\n",
      "\n",
      "<<<<<<<<<<< RandomForest >>>>>>>>>>> \n",
      "\n",
      "Confusion matrix:\n",
      " [[903   9]\n",
      " [101 142]]\n",
      "\n",
      "Classification report:\n",
      "               precision    recall  f1-score   support\n",
      "\n",
      "    negative       0.90      0.99      0.94       912\n",
      "    positive       0.94      0.58      0.72       243\n",
      "\n",
      "    accuracy                           0.90      1155\n",
      "   macro avg       0.92      0.79      0.83      1155\n",
      "weighted avg       0.91      0.90      0.90      1155\n",
      "\n",
      "<<<<<<<<<<< MultinomialBayes >>>>>>>>>>> \n",
      "\n",
      "Confusion matrix:\n",
      " [[884  28]\n",
      " [ 83 160]]\n",
      "\n",
      "Classification report:\n",
      "               precision    recall  f1-score   support\n",
      "\n",
      "    negative       0.91      0.97      0.94       912\n",
      "    positive       0.85      0.66      0.74       243\n",
      "\n",
      "    accuracy                           0.90      1155\n",
      "   macro avg       0.88      0.81      0.84      1155\n",
      "weighted avg       0.90      0.90      0.90      1155\n",
      "\n"
     ]
    }
   ],
   "source": [
    "for index in range(len(classifiers)):\n",
    "    \n",
    "    classifier = classifiers[index]\n",
    "    # Buiding model & prediting for test set\n",
    "    classifier.fit(X_train, y_train)\n",
    "    test_prediction = classifier.predict(X_test)\n",
    "    \n",
    "    \n",
    "    print('<<<<<<<<<<<',classifier_names[index],'>>>>>>>>>>>','\\n')\n",
    "    print(f'Confusion matrix:\\n {confusion_matrix(y_test, test_prediction)}\\n')\n",
    "    print(f'Classification report:\\n {classification_report(y_test, test_prediction)}')"
   ]
  },
  {
   "cell_type": "code",
   "execution_count": 26,
   "metadata": {},
   "outputs": [
    {
     "data": {
      "text/plain": [
       "8658"
      ]
     },
     "execution_count": 26,
     "metadata": {},
     "output_type": "execute_result"
    }
   ],
   "source": [
    "total_words = len(tokenizer.word_index)\n",
    "total_words"
   ]
  },
  {
   "cell_type": "markdown",
   "metadata": {},
   "source": [
    "### Defining max sequence length and embedding dimension for a word"
   ]
  },
  {
   "cell_type": "code",
   "execution_count": 27,
   "metadata": {},
   "outputs": [],
   "source": [
    "max_seq_len = 30\n",
    "embed_num_dims = 100"
   ]
  },
  {
   "cell_type": "code",
   "execution_count": 28,
   "metadata": {},
   "outputs": [
    {
     "data": {
      "text/plain": [
       "array([[   0,    0,    0, ...,    3,  129, 4125],\n",
       "       [   0,    0,    0, ...,   11,  399, 1830],\n",
       "       [   0,    0,    0, ...,   62,  227,   69],\n",
       "       ...,\n",
       "       [   0,    0,    0, ...,    5,    2,  398],\n",
       "       [   0,    0,    0, ..., 1331,   30,  736],\n",
       "       [   0,    0,    0, ...,   21,   46, 1621]], dtype=int32)"
      ]
     },
     "execution_count": 28,
     "metadata": {},
     "output_type": "execute_result"
    }
   ],
   "source": [
    "padded_seq = pad_sequences(sequences, maxlen=max_seq_len)\n",
    "padded_seq"
   ]
  },
  {
   "cell_type": "code",
   "execution_count": 29,
   "metadata": {},
   "outputs": [],
   "source": [
    "X_train, X_test, y_train, y_test = train_test_split(padded_seq, y, test_size=0.1)\n",
    "X_train, X_val, y_train, y_val = train_test_split(X_train, y_train, test_size =0.2)"
   ]
  },
  {
   "cell_type": "code",
   "execution_count": 30,
   "metadata": {},
   "outputs": [],
   "source": [
    "from sklearn.preprocessing import LabelEncoder\n",
    "\n",
    "le = LabelEncoder()\n",
    "\n",
    "y_train = le.fit_transform(y_train)\n",
    "y_val = le.transform(y_val)\n",
    "y_test = le.transform(y_test)"
   ]
  },
  {
   "cell_type": "code",
   "execution_count": 31,
   "metadata": {},
   "outputs": [
    {
     "data": {
      "text/plain": [
       "((8308, 30), (8308,), (2078, 30), (2078,))"
      ]
     },
     "execution_count": 31,
     "metadata": {},
     "output_type": "execute_result"
    }
   ],
   "source": [
    "X_train.shape, y_train.shape, X_val.shape, y_val.shape"
   ]
  },
  {
   "cell_type": "markdown",
   "metadata": {},
   "source": [
    "## Creating deep neural network model"
   ]
  },
  {
   "cell_type": "code",
   "execution_count": 46,
   "metadata": {},
   "outputs": [],
   "source": [
    "from tensorflow.keras.models import Sequential\n",
    "from tensorflow.keras.layers import Dense, Dropout,LSTM, Embedding, Bidirectional\n",
    "from tensorflow.keras import callbacks\n",
    "\n",
    "\n",
    "model = Sequential()\n",
    "\n",
    "model.add(Embedding(input_dim=total_words + 1, output_dim=embed_num_dims, input_length=max_seq_len))\n",
    "model.add(Bidirectional(LSTM(units=128, dropout=0.2, recurrent_dropout=0.2, return_sequences=True)))\n",
    "model.add(Dense(1, activation='sigmoid'))"
   ]
  },
  {
   "cell_type": "code",
   "execution_count": 47,
   "metadata": {},
   "outputs": [],
   "source": [
    "model.compile(optimizer='adam', loss='binary_crossentropy', metrics=['accuracy'])"
   ]
  },
  {
   "cell_type": "code",
   "execution_count": 48,
   "metadata": {},
   "outputs": [
    {
     "name": "stdout",
     "output_type": "stream",
     "text": [
      "Model: \"sequential_3\"\n",
      "_________________________________________________________________\n",
      "Layer (type)                 Output Shape              Param #   \n",
      "=================================================================\n",
      "embedding_3 (Embedding)      (None, 30, 100)           865900    \n",
      "_________________________________________________________________\n",
      "bidirectional_3 (Bidirection (None, 30, 256)           234496    \n",
      "_________________________________________________________________\n",
      "dense_1 (Dense)              (None, 30, 1)             257       \n",
      "=================================================================\n",
      "Total params: 1,100,653\n",
      "Trainable params: 1,100,653\n",
      "Non-trainable params: 0\n",
      "_________________________________________________________________\n"
     ]
    }
   ],
   "source": [
    "model.summary()"
   ]
  },
  {
   "cell_type": "code",
   "execution_count": 49,
   "metadata": {},
   "outputs": [
    {
     "name": "stdout",
     "output_type": "stream",
     "text": [
      "Epoch 1/20\n",
      "130/130 [==============================] - ETA: 0s - loss: 0.3713 - accuracy: 0.8502\n",
      "Epoch 00001: val_accuracy improved from -inf to 0.90027, saving model to airline_twitter_sentiment.hdf5\n",
      "130/130 [==============================] - 9s 71ms/step - loss: 0.3713 - accuracy: 0.8502 - val_loss: 0.2615 - val_accuracy: 0.9003\n",
      "Epoch 2/20\n",
      "130/130 [==============================] - ETA: 0s - loss: 0.1721 - accuracy: 0.9378\n",
      "Epoch 00002: val_accuracy improved from 0.90027 to 0.91540, saving model to airline_twitter_sentiment.hdf5\n",
      "130/130 [==============================] - 9s 66ms/step - loss: 0.1721 - accuracy: 0.9378 - val_loss: 0.2175 - val_accuracy: 0.9154\n",
      "Epoch 3/20\n",
      "130/130 [==============================] - ETA: 0s - loss: 0.1181 - accuracy: 0.9612\n",
      "Epoch 00003: val_accuracy did not improve from 0.91540\n",
      "130/130 [==============================] - 9s 69ms/step - loss: 0.1181 - accuracy: 0.9612 - val_loss: 0.2722 - val_accuracy: 0.9077\n",
      "Epoch 4/20\n",
      "130/130 [==============================] - ETA: 0s - loss: 0.0791 - accuracy: 0.9748\n",
      "Epoch 00004: val_accuracy did not improve from 0.91540\n",
      "130/130 [==============================] - 9s 69ms/step - loss: 0.0791 - accuracy: 0.9748 - val_loss: 0.2757 - val_accuracy: 0.9114\n",
      "Epoch 5/20\n",
      "130/130 [==============================] - ETA: 0s - loss: 0.0628 - accuracy: 0.9809\n",
      "Epoch 00005: val_accuracy did not improve from 0.91540\n",
      "130/130 [==============================] - 9s 72ms/step - loss: 0.0628 - accuracy: 0.9809 - val_loss: 0.2961 - val_accuracy: 0.9091\n",
      "Epoch 6/20\n",
      "130/130 [==============================] - ETA: 0s - loss: 0.0512 - accuracy: 0.9839\n",
      "Epoch 00006: val_accuracy did not improve from 0.91540\n",
      "130/130 [==============================] - 9s 72ms/step - loss: 0.0512 - accuracy: 0.9839 - val_loss: 0.3306 - val_accuracy: 0.9059\n",
      "Epoch 7/20\n",
      "130/130 [==============================] - ETA: 0s - loss: 0.0419 - accuracy: 0.9869\n",
      "Epoch 00007: val_accuracy did not improve from 0.91540\n",
      "130/130 [==============================] - 9s 72ms/step - loss: 0.0419 - accuracy: 0.9869 - val_loss: 0.3237 - val_accuracy: 0.9046\n",
      "Epoch 00007: early stopping\n"
     ]
    },
    {
     "data": {
      "text/plain": [
       "<tensorflow.python.keras.callbacks.History at 0x7f6f0cbabb00>"
      ]
     },
     "execution_count": 49,
     "metadata": {},
     "output_type": "execute_result"
    }
   ],
   "source": [
    "epochs = 20\n",
    "\n",
    "call_back = [callbacks.ModelCheckpoint(filepath='airline_twitter_sentiment.hdf5', \n",
    "                              save_best_only=True, monitor='val_accuracy', mode='max', verbose=1),\n",
    "             callbacks.EarlyStopping(monitor='val_accuracy', patience=5, verbose=1, min_delta=1e-4, mode='max')]\n",
    "\n",
    "model.fit(X_train, y_train, validation_data=(X_val, y_val), batch_size=64, epochs=epochs, callbacks=call_back)"
   ]
  },
  {
   "cell_type": "code",
   "execution_count": 50,
   "metadata": {},
   "outputs": [
    {
     "name": "stdout",
     "output_type": "stream",
     "text": [
      "37/37 [==============================] - 0s 7ms/step - loss: 0.2989 - accuracy: 0.9174\n"
     ]
    }
   ],
   "source": [
    "result = model.evaluate(X_test, y_test)"
   ]
  },
  {
   "cell_type": "code",
   "execution_count": 51,
   "metadata": {},
   "outputs": [
    {
     "name": "stdout",
     "output_type": "stream",
     "text": [
      "test loss: 0.29890361428260803 test accuracy: 0.9174314141273499\n"
     ]
    }
   ],
   "source": [
    "print('test loss:', result[0], 'test accuracy:', result[1])"
   ]
  },
  {
   "cell_type": "code",
   "execution_count": 52,
   "metadata": {},
   "outputs": [],
   "source": [
    "result = model.predict(X_test)"
   ]
  },
  {
   "cell_type": "code",
   "execution_count": 53,
   "metadata": {},
   "outputs": [
    {
     "data": {
      "text/plain": [
       "array([[[1.7231703e-04],\n",
       "        [1.7294288e-04],\n",
       "        [1.7547607e-04],\n",
       "        ...,\n",
       "        [1.0991510e-05],\n",
       "        [2.0325086e-05],\n",
       "        [6.4463879e-05]],\n",
       "\n",
       "       [[1.7592907e-03],\n",
       "        [1.8792152e-03],\n",
       "        [2.0284355e-03],\n",
       "        ...,\n",
       "        [9.8562241e-04],\n",
       "        [8.2582235e-04],\n",
       "        [7.1218610e-04]],\n",
       "\n",
       "       [[3.2014847e-03],\n",
       "        [3.4117103e-03],\n",
       "        [3.6717057e-03],\n",
       "        ...,\n",
       "        [5.3840876e-04],\n",
       "        [1.4740229e-04],\n",
       "        [8.0400705e-04]],\n",
       "\n",
       "       ...,\n",
       "\n",
       "       [[1.8882751e-04],\n",
       "        [1.8969178e-04],\n",
       "        [1.9216537e-04],\n",
       "        ...,\n",
       "        [2.8336203e-06],\n",
       "        [1.3967881e-05],\n",
       "        [6.8956438e-06]],\n",
       "\n",
       "       [[1.5773177e-03],\n",
       "        [1.6849041e-03],\n",
       "        [1.8192232e-03],\n",
       "        ...,\n",
       "        [3.3204257e-03],\n",
       "        [2.6432902e-02],\n",
       "        [6.5103173e-04]],\n",
       "\n",
       "       [[3.1033158e-04],\n",
       "        [3.2079220e-04],\n",
       "        [3.3539534e-04],\n",
       "        ...,\n",
       "        [6.6490902e-05],\n",
       "        [1.0148635e-04],\n",
       "        [2.0604777e-05]]], dtype=float32)"
      ]
     },
     "execution_count": 53,
     "metadata": {},
     "output_type": "execute_result"
    }
   ],
   "source": [
    "result "
   ]
  },
  {
   "cell_type": "code",
   "execution_count": 54,
   "metadata": {},
   "outputs": [],
   "source": [
    "result = result.flatten()\n",
    "result = np.where(result >= 0.5, 1, 0)"
   ]
  },
  {
   "cell_type": "code",
   "execution_count": 55,
   "metadata": {},
   "outputs": [
    {
     "ename": "ValueError",
     "evalue": "Found input variables with inconsistent numbers of samples: [1155, 34650]",
     "output_type": "error",
     "traceback": [
      "\u001b[0;31m---------------------------------------------------------------------------\u001b[0m",
      "\u001b[0;31mValueError\u001b[0m                                Traceback (most recent call last)",
      "\u001b[0;32m<ipython-input-55-730daf250448>\u001b[0m in \u001b[0;36m<module>\u001b[0;34m\u001b[0m\n\u001b[0;32m----> 1\u001b[0;31m \u001b[0mreport\u001b[0m \u001b[0;34m=\u001b[0m \u001b[0mclassification_report\u001b[0m\u001b[0;34m(\u001b[0m\u001b[0my_test\u001b[0m\u001b[0;34m,\u001b[0m \u001b[0mresult\u001b[0m\u001b[0;34m,\u001b[0m \u001b[0mtarget_names\u001b[0m\u001b[0;34m=\u001b[0m\u001b[0mclasses\u001b[0m\u001b[0;34m)\u001b[0m\u001b[0;34m\u001b[0m\u001b[0;34m\u001b[0m\u001b[0m\n\u001b[0m",
      "\u001b[0;32m~/.local/lib/python3.6/site-packages/sklearn/utils/validation.py\u001b[0m in \u001b[0;36minner_f\u001b[0;34m(*args, **kwargs)\u001b[0m\n\u001b[1;32m     70\u001b[0m                           FutureWarning)\n\u001b[1;32m     71\u001b[0m         \u001b[0mkwargs\u001b[0m\u001b[0;34m.\u001b[0m\u001b[0mupdate\u001b[0m\u001b[0;34m(\u001b[0m\u001b[0;34m{\u001b[0m\u001b[0mk\u001b[0m\u001b[0;34m:\u001b[0m \u001b[0marg\u001b[0m \u001b[0;32mfor\u001b[0m \u001b[0mk\u001b[0m\u001b[0;34m,\u001b[0m \u001b[0marg\u001b[0m \u001b[0;32min\u001b[0m \u001b[0mzip\u001b[0m\u001b[0;34m(\u001b[0m\u001b[0msig\u001b[0m\u001b[0;34m.\u001b[0m\u001b[0mparameters\u001b[0m\u001b[0;34m,\u001b[0m \u001b[0margs\u001b[0m\u001b[0;34m)\u001b[0m\u001b[0;34m}\u001b[0m\u001b[0;34m)\u001b[0m\u001b[0;34m\u001b[0m\u001b[0;34m\u001b[0m\u001b[0m\n\u001b[0;32m---> 72\u001b[0;31m         \u001b[0;32mreturn\u001b[0m \u001b[0mf\u001b[0m\u001b[0;34m(\u001b[0m\u001b[0;34m**\u001b[0m\u001b[0mkwargs\u001b[0m\u001b[0;34m)\u001b[0m\u001b[0;34m\u001b[0m\u001b[0;34m\u001b[0m\u001b[0m\n\u001b[0m\u001b[1;32m     73\u001b[0m     \u001b[0;32mreturn\u001b[0m \u001b[0minner_f\u001b[0m\u001b[0;34m\u001b[0m\u001b[0;34m\u001b[0m\u001b[0m\n\u001b[1;32m     74\u001b[0m \u001b[0;34m\u001b[0m\u001b[0m\n",
      "\u001b[0;32m~/.local/lib/python3.6/site-packages/sklearn/metrics/_classification.py\u001b[0m in \u001b[0;36mclassification_report\u001b[0;34m(y_true, y_pred, labels, target_names, sample_weight, digits, output_dict, zero_division)\u001b[0m\n\u001b[1;32m   1927\u001b[0m     \"\"\"\n\u001b[1;32m   1928\u001b[0m \u001b[0;34m\u001b[0m\u001b[0m\n\u001b[0;32m-> 1929\u001b[0;31m     \u001b[0my_type\u001b[0m\u001b[0;34m,\u001b[0m \u001b[0my_true\u001b[0m\u001b[0;34m,\u001b[0m \u001b[0my_pred\u001b[0m \u001b[0;34m=\u001b[0m \u001b[0m_check_targets\u001b[0m\u001b[0;34m(\u001b[0m\u001b[0my_true\u001b[0m\u001b[0;34m,\u001b[0m \u001b[0my_pred\u001b[0m\u001b[0;34m)\u001b[0m\u001b[0;34m\u001b[0m\u001b[0;34m\u001b[0m\u001b[0m\n\u001b[0m\u001b[1;32m   1930\u001b[0m \u001b[0;34m\u001b[0m\u001b[0m\n\u001b[1;32m   1931\u001b[0m     \u001b[0mlabels_given\u001b[0m \u001b[0;34m=\u001b[0m \u001b[0;32mTrue\u001b[0m\u001b[0;34m\u001b[0m\u001b[0;34m\u001b[0m\u001b[0m\n",
      "\u001b[0;32m~/.local/lib/python3.6/site-packages/sklearn/metrics/_classification.py\u001b[0m in \u001b[0;36m_check_targets\u001b[0;34m(y_true, y_pred)\u001b[0m\n\u001b[1;32m     79\u001b[0m     \u001b[0my_pred\u001b[0m \u001b[0;34m:\u001b[0m \u001b[0marray\u001b[0m \u001b[0;32mor\u001b[0m \u001b[0mindicator\u001b[0m \u001b[0mmatrix\u001b[0m\u001b[0;34m\u001b[0m\u001b[0;34m\u001b[0m\u001b[0m\n\u001b[1;32m     80\u001b[0m     \"\"\"\n\u001b[0;32m---> 81\u001b[0;31m     \u001b[0mcheck_consistent_length\u001b[0m\u001b[0;34m(\u001b[0m\u001b[0my_true\u001b[0m\u001b[0;34m,\u001b[0m \u001b[0my_pred\u001b[0m\u001b[0;34m)\u001b[0m\u001b[0;34m\u001b[0m\u001b[0;34m\u001b[0m\u001b[0m\n\u001b[0m\u001b[1;32m     82\u001b[0m     \u001b[0mtype_true\u001b[0m \u001b[0;34m=\u001b[0m \u001b[0mtype_of_target\u001b[0m\u001b[0;34m(\u001b[0m\u001b[0my_true\u001b[0m\u001b[0;34m)\u001b[0m\u001b[0;34m\u001b[0m\u001b[0;34m\u001b[0m\u001b[0m\n\u001b[1;32m     83\u001b[0m     \u001b[0mtype_pred\u001b[0m \u001b[0;34m=\u001b[0m \u001b[0mtype_of_target\u001b[0m\u001b[0;34m(\u001b[0m\u001b[0my_pred\u001b[0m\u001b[0;34m)\u001b[0m\u001b[0;34m\u001b[0m\u001b[0;34m\u001b[0m\u001b[0m\n",
      "\u001b[0;32m~/.local/lib/python3.6/site-packages/sklearn/utils/validation.py\u001b[0m in \u001b[0;36mcheck_consistent_length\u001b[0;34m(*arrays)\u001b[0m\n\u001b[1;32m    254\u001b[0m     \u001b[0;32mif\u001b[0m \u001b[0mlen\u001b[0m\u001b[0;34m(\u001b[0m\u001b[0muniques\u001b[0m\u001b[0;34m)\u001b[0m \u001b[0;34m>\u001b[0m \u001b[0;36m1\u001b[0m\u001b[0;34m:\u001b[0m\u001b[0;34m\u001b[0m\u001b[0;34m\u001b[0m\u001b[0m\n\u001b[1;32m    255\u001b[0m         raise ValueError(\"Found input variables with inconsistent numbers of\"\n\u001b[0;32m--> 256\u001b[0;31m                          \" samples: %r\" % [int(l) for l in lengths])\n\u001b[0m\u001b[1;32m    257\u001b[0m \u001b[0;34m\u001b[0m\u001b[0m\n\u001b[1;32m    258\u001b[0m \u001b[0;34m\u001b[0m\u001b[0m\n",
      "\u001b[0;31mValueError\u001b[0m: Found input variables with inconsistent numbers of samples: [1155, 34650]"
     ]
    }
   ],
   "source": [
    "report = classification_report(y_test, result, target_names=classes)"
   ]
  },
  {
   "cell_type": "code",
   "execution_count": null,
   "metadata": {},
   "outputs": [],
   "source": [
    "print('<<<<<<<<<<<',\"Using deep neural network\",'>>>>>>>>>>>','\\n')\n",
    "print(confusion_matrix(y_test, result))\n",
    "print(report)"
   ]
  },
  {
   "cell_type": "code",
   "execution_count": null,
   "metadata": {},
   "outputs": [],
   "source": []
  },
  {
   "cell_type": "code",
   "execution_count": null,
   "metadata": {},
   "outputs": [],
   "source": []
  }
 ],
 "metadata": {
  "kernelspec": {
   "display_name": "Python 3",
   "language": "python",
   "name": "python3"
  },
  "language_info": {
   "codemirror_mode": {
    "name": "ipython",
    "version": 3
   },
   "file_extension": ".py",
   "mimetype": "text/x-python",
   "name": "python",
   "nbconvert_exporter": "python",
   "pygments_lexer": "ipython3",
   "version": "3.6.9"
  }
 },
 "nbformat": 4,
 "nbformat_minor": 4
}
